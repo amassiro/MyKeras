{
 "cells": [
  {
   "cell_type": "code",
   "execution_count": 1,
   "metadata": {},
   "outputs": [
    {
     "name": "stdout",
     "output_type": "stream",
     "text": [
      "Welcome to JupyROOT 6.14/04\n"
     ]
    }
   ],
   "source": [
    "import ROOT as root\n",
    "import numpy as np\n",
    "\n",
    "np.random.seed(1234)\n",
    "\n"
   ]
  },
  {
   "cell_type": "code",
   "execution_count": 2,
   "metadata": {},
   "outputs": [],
   "source": [
    "#\n",
    "# Create data\n",
    "#\n",
    "# \n",
    "# mu = 1\n",
    "# sigma = 0.2\n",
    "# \n",
    "# data = np.random.normal(mu, sigma, 10)\n",
    "# \n",
    "# print (\"data = \", data)\n",
    "# \n",
    "import matplotlib.pyplot as plt\n",
    "# \n",
    "# fig = plt.figure(figsize = (3,3))\n",
    "# plt.hist( data, bins = 50)\n"
   ]
  },
  {
   "cell_type": "code",
   "execution_count": 44,
   "metadata": {},
   "outputs": [
    {
     "name": "stdout",
     "output_type": "stream",
     "text": [
      "[0, 1]\n",
      "data_vector_wrong_order\n",
      "[[1.92073769 2.02512474 2.16707942 ... 2.1017402  2.10953244 2.00308331]\n",
      " [3.03830135 2.89604282 2.94442214 ... 2.84590636 2.86855625 2.98397236]]\n",
      "data_vector_wrong_order_extended\n",
      "[[3.66926191 4.11364668 3.74558393 ... 4.54848375 3.6083325  3.64397507]\n",
      " [4.88385458 4.84929324 5.10401899 ... 4.78342224 4.75688777 5.3749598 ]]\n",
      "data_vector_wrong_order\n",
      "[[1.92073769 2.02512474 2.16707942 ... 4.54848375 3.6083325  3.64397507]\n",
      " [3.03830135 2.89604282 2.94442214 ... 4.78342224 4.75688777 5.3749598 ]]\n",
      "data_vector\n",
      "[[1.92073769 3.03830135]\n",
      " [2.02512474 2.89604282]\n",
      " [2.16707942 2.94442214]\n",
      " ...\n",
      " [4.54848375 4.78342224]\n",
      " [3.6083325  4.75688777]\n",
      " [3.64397507 5.3749598 ]]\n",
      "data_vector\n",
      "[[1.0176232  2.12638355]\n",
      " [0.97935557 2.00739126]\n",
      " [0.97211278 2.06177814]\n",
      " ...\n",
      " [1.93410387 3.06231269]\n",
      " [2.18501105 3.17589858]\n",
      " [2.12767644 2.7762441 ]]\n"
     ]
    },
    {
     "data": {
      "image/png": "[encoded data removed]",
      "text/plain": [
       "<Figure size 216x216 with 1 Axes>"
      ]
     },
     "metadata": {},
     "output_type": "display_data"
    },
    {
     "data": {
      "image/png": "[encoded data removed]",
      "text/plain": [
       "<Figure size 216x216 with 1 Axes>"
      ]
     },
     "metadata": {},
     "output_type": "display_data"
    }
   ],
   "source": [
    "#\n",
    "# Now create seriously more data in 2D\n",
    "#\n",
    "\n",
    "num_events = 9000\n",
    "\n",
    "dimension_input = 10  # 3\n",
    "\n",
    "print range(dimension_input)\n",
    "\n",
    "mu = 2\n",
    "sigma = 0.1 \n",
    "data_vector_wrong_order = np.array( [ np.random.normal(mu+i, sigma, num_events*2/3)          for i in range(dimension_input)] )\n",
    "\n",
    "data_vector_wrong_order_extended = np.array( [ np.random.normal(mu+i+2., 3*sigma, num_events/3) for i in range(dimension_input)] )\n",
    "\n",
    "print \"data_vector_wrong_order\"\n",
    "print data_vector_wrong_order\n",
    " \n",
    "print \"data_vector_wrong_order_extended\"\n",
    "print data_vector_wrong_order_extended\n",
    "\n",
    "# https://docs.scipy.org/doc/numpy-1.15.0/reference/generated/numpy.concatenate.html\n",
    "data_vector_wrong_order = np.concatenate( [data_vector_wrong_order, data_vector_wrong_order_extended], axis=1)\n",
    "\n",
    "print \"data_vector_wrong_order\"                                     \n",
    "print data_vector_wrong_order\n",
    "\n",
    "data_vector = np.array( [ data_vector_wrong_order[:,i] for i in range(num_events) ] )\n",
    "print \"data_vector\"\n",
    "print data_vector\n",
    "\n",
    "\n",
    "  \n",
    "    \n",
    "#\n",
    "# New data set\n",
    "#\n",
    "\n",
    "import random\n",
    "\n",
    "data_vector = np.array( [ [ (j + 1 + 1.*i/num_events) * random.gauss(1,0.05)  for j in xrange(dimension_input) ] for i in range(num_events) ] )\n",
    "    \n",
    "print \"data_vector\"\n",
    "print data_vector\n",
    "\n",
    "\n",
    "\n",
    "for i in range(dimension_input): \n",
    "  fig = plt.figure(figsize = (3,3))  \n",
    "  plt.hist( data_vector[:,i], bins = 50)\n",
    "\n",
    "\n",
    "    \n",
    "    \n",
    "    \n"
   ]
  },
  {
   "cell_type": "code",
   "execution_count": 45,
   "metadata": {},
   "outputs": [
    {
     "name": "stdout",
     "output_type": "stream",
     "text": [
      " [ 0 ][ 1 ]\n"
     ]
    },
    {
     "data": {
      "image/png": "[encoded data removed]",
      "text/plain": [
       "<Figure size 216x216 with 1 Axes>"
      ]
     },
     "metadata": {},
     "output_type": "display_data"
    }
   ],
   "source": [
    "#\n",
    "# draw 2d correlation (should be null)\n",
    "#\n",
    "\n",
    "for i in xrange(dimension_input): \n",
    "  for j in xrange(i+1, dimension_input): \n",
    "    print \" [\", i, \"][\", j, \"]\"\n",
    "    fig = plt.figure(figsize = (3,3))  \n",
    "    plt.hist2d( data_vector[:,i], data_vector[:,j], bins = 50)\n",
    "\n",
    "\n"
   ]
  },
  {
   "cell_type": "code",
   "execution_count": 46,
   "metadata": {},
   "outputs": [],
   "source": [
    "#\n",
    "#\n",
    "#\n",
    "# Keras model\n",
    "#\n",
    "#\n",
    "\n",
    "from scipy.stats import norm\n",
    "\n",
    "from keras import backend as K\n",
    "\n",
    "from keras.layers import Input, Dense, Lambda, Layer, Add, Multiply\n",
    "from keras.models import Model, Sequential\n",
    "\n",
    "original_dim = dimension_input\n",
    "intermediate_dim = 3\n",
    "latent_dim = 2\n",
    "batch_size = 100\n",
    "epochs = 50\n",
    "epsilon_std = 1.0\n",
    "\n",
    "\n",
    "\n"
   ]
  },
  {
   "cell_type": "code",
   "execution_count": 47,
   "metadata": {},
   "outputs": [],
   "source": [
    "\n",
    "def nll(y_true, y_pred):\n",
    "    \"\"\" Negative log likelihood (Bernoulli). \"\"\"\n",
    "    #\n",
    "    # keras.losses.binary_crossentropy gives the mean\n",
    "    # over the last axis. we require the sum\n",
    "    #\n",
    "    return K.sum(K.binary_crossentropy(y_true, y_pred), axis=-1)\n",
    "    #\n",
    "    # See: https://keras.io/losses/\n",
    "    # Cross entropy: https://en.wikipedia.org/wiki/Cross_entropy\n",
    "    #\n"
   ]
  },
  {
   "cell_type": "code",
   "execution_count": 48,
   "metadata": {},
   "outputs": [],
   "source": [
    "\n",
    "class KLDivergenceLayer(Layer):\n",
    "\n",
    "    \"\"\" Identity transform layer that adds KL divergence\n",
    "    to the final model loss.\n",
    "    \"\"\"\n",
    "\n",
    "    def __init__(self, *args, **kwargs):\n",
    "        self.is_placeholder = True\n",
    "        super(KLDivergenceLayer, self).__init__(*args, **kwargs)\n",
    "\n",
    "    def call(self, inputs):\n",
    "\n",
    "        mu, log_var = inputs\n",
    "\n",
    "        #\n",
    "        # var = variance\n",
    "        #\n",
    "        # print \" mu = \", mu\n",
    "        # print \" log_var = \", log_var\n",
    "        \n",
    "        \n",
    "        kl_batch = - .5 * K.sum(1 + log_var -\n",
    "                                K.square(mu) -\n",
    "                                K.exp(log_var), axis=-1)\n",
    "\n",
    "        self.add_loss(K.mean(kl_batch), inputs=inputs)\n",
    "\n",
    "        return inputs\n"
   ]
  },
  {
   "cell_type": "code",
   "execution_count": 49,
   "metadata": {},
   "outputs": [],
   "source": [
    "#\n",
    "# definition of the decoder\n",
    "#\n",
    "\n",
    "decoder = Sequential ([\n",
    "    Dense(intermediate_dim, input_dim=latent_dim, activation='relu'),\n",
    "    Dense(original_dim, activation='sigmoid')\n",
    "    ])\n",
    "\n"
   ]
  },
  {
   "cell_type": "code",
   "execution_count": 50,
   "metadata": {},
   "outputs": [],
   "source": [
    "x = Input(shape=(original_dim,))\n",
    "h = Dense(intermediate_dim, activation='relu')(x)\n",
    "\n",
    "#\n",
    "# h intermediate step\n",
    "#\n",
    "#  - mu = mean\n",
    "#  - var = variance\n",
    "#\n",
    "# explanation see: http://louistiao.me/posts/implementing-variational-autoencoders-in-keras-beyond-the-quickstart-tutorial/\n",
    "#\n",
    "\n",
    "z_mu = Dense(latent_dim)(h)\n",
    "z_log_var = Dense(latent_dim)(h)\n",
    "\n",
    "#\n",
    "# from h -> 2 layers\n",
    "#\n",
    "\n",
    "z_mu, z_log_var = KLDivergenceLayer()([z_mu, z_log_var])\n",
    "\n",
    "z_sigma = Lambda(lambda t: K.exp(.5*t))(z_log_var)\n",
    "\n",
    "#\n",
    "# Add a new layer that takes \"t\" and does \"exp(0.5 * t)\", and apply it to \"z_log_var\"\n",
    "# See here for more details: https://keras.io/layers/core/\n",
    "#\n",
    "\n",
    "eps = Input (tensor = K.random_normal( stddev=epsilon_std, shape=(K.shape(x)[0], latent_dim) ) )\n",
    "\n",
    "z_eps = Multiply()([z_sigma, eps])\n",
    "#\n",
    "# Layer that multiplies (element-wise) a list of inputs.\n",
    "# It takes as input a list of tensors, all of the same shape, and returns a single tensor (also of the same shape).\n",
    "#\n",
    "\n",
    "z = Add()([z_mu, z_eps])\n",
    "#\n",
    "# Layer that adds a list of inputs.\n",
    "# It takes as input a list of tensors, all of the same shape, and returns a single tensor (also of the same shape).\n",
    "#\n",
    "\n",
    "x_pred = decoder(z)\n"
   ]
  },
  {
   "cell_type": "code",
   "execution_count": 51,
   "metadata": {},
   "outputs": [],
   "source": [
    "\n",
    "vae = Model ( inputs=[x, eps], outputs=x_pred)\n",
    "vae.compile (optimizer='rmsprop', loss=nll)\n"
   ]
  },
  {
   "cell_type": "code",
   "execution_count": 52,
   "metadata": {},
   "outputs": [
    {
     "name": "stdout",
     "output_type": "stream",
     "text": [
      "Train on 9000 samples, validate on 9000 samples\n",
      "Epoch 1/50\n",
      "9000/9000 [==============================] - 1s 81us/step - loss: 2.4707 - val_loss: 1.4794\n",
      "Epoch 2/50\n",
      "9000/9000 [==============================] - 0s 49us/step - loss: 0.8965 - val_loss: 0.4181\n",
      "Epoch 3/50\n",
      "9000/9000 [==============================] - 0s 47us/step - loss: -0.0752 - val_loss: -0.6505\n",
      "Epoch 4/50\n",
      "9000/9000 [==============================] - 0s 46us/step - loss: -1.3209 - val_loss: -2.1111\n",
      "Epoch 5/50\n",
      "9000/9000 [==============================] - 0s 46us/step - loss: -2.8761 - val_loss: -3.7484\n",
      "Epoch 6/50\n",
      "9000/9000 [==============================] - 0s 46us/step - loss: -4.6447 - val_loss: -5.6094\n",
      "Epoch 7/50\n",
      "9000/9000 [==============================] - 0s 41us/step - loss: -6.6123 - val_loss: -7.7697\n",
      "Epoch 8/50\n",
      "9000/9000 [==============================] - 0s 47us/step - loss: -8.9575 - val_loss: -10.2757\n",
      "Epoch 9/50\n",
      "9000/9000 [==============================] - 0s 42us/step - loss: -11.9115 - val_loss: -13.5218\n",
      "Epoch 10/50\n",
      "9000/9000 [==============================] - 0s 47us/step - loss: -15.0181 - val_loss: -16.5376\n",
      "Epoch 11/50\n",
      "9000/9000 [==============================] - 0s 45us/step - loss: -17.8762 - val_loss: -19.1467\n",
      "Epoch 12/50\n",
      "9000/9000 [==============================] - 0s 47us/step - loss: -20.3565 - val_loss: -21.3535\n",
      "Epoch 13/50\n",
      "9000/9000 [==============================] - 0s 45us/step - loss: -22.1782 - val_loss: -23.0500\n",
      "Epoch 14/50\n",
      "9000/9000 [==============================] - 0s 46us/step - loss: -23.7585 - val_loss: -24.4521\n",
      "Epoch 15/50\n",
      "9000/9000 [==============================] - 0s 46us/step - loss: -25.0058 - val_loss: -25.5418\n",
      "Epoch 16/50\n",
      "9000/9000 [==============================] - 0s 46us/step - loss: -25.9903 - val_loss: -26.4664\n",
      "Epoch 17/50\n",
      "9000/9000 [==============================] - 0s 43us/step - loss: -26.8045 - val_loss: -27.1462\n",
      "Epoch 18/50\n",
      "9000/9000 [==============================] - 0s 41us/step - loss: -27.4766 - val_loss: -27.7587\n",
      "Epoch 19/50\n",
      "9000/9000 [==============================] - 0s 46us/step - loss: -27.9762 - val_loss: -28.1514\n",
      "Epoch 20/50\n",
      "9000/9000 [==============================] - 0s 41us/step - loss: -28.3771 - val_loss: -28.5340\n",
      "Epoch 21/50\n",
      "9000/9000 [==============================] - 0s 44us/step - loss: -28.6956 - val_loss: -28.8824\n",
      "Epoch 22/50\n",
      "9000/9000 [==============================] - 0s 45us/step - loss: -29.0253 - val_loss: -29.1279\n",
      "Epoch 23/50\n",
      "9000/9000 [==============================] - 0s 48us/step - loss: -29.2464 - val_loss: -29.3662\n",
      "Epoch 24/50\n",
      "9000/9000 [==============================] - 0s 42us/step - loss: -29.4180 - val_loss: -29.5329\n",
      "Epoch 25/50\n",
      "9000/9000 [==============================] - 0s 48us/step - loss: -29.6161 - val_loss: -29.6801\n",
      "Epoch 26/50\n",
      "9000/9000 [==============================] - 0s 46us/step - loss: -29.7458 - val_loss: -29.8483\n",
      "Epoch 27/50\n",
      "9000/9000 [==============================] - 0s 49us/step - loss: -29.8383 - val_loss: -29.9400\n",
      "Epoch 28/50\n",
      "9000/9000 [==============================] - 0s 45us/step - loss: -29.9854 - val_loss: -30.0214\n",
      "Epoch 29/50\n",
      "9000/9000 [==============================] - 0s 45us/step - loss: -30.0907 - val_loss: -30.1260\n",
      "Epoch 30/50\n",
      "9000/9000 [==============================] - 0s 53us/step - loss: -30.1470 - val_loss: -30.1947\n",
      "Epoch 31/50\n",
      "9000/9000 [==============================] - 0s 49us/step - loss: -30.2325 - val_loss: -30.2842\n",
      "Epoch 32/50\n",
      "9000/9000 [==============================] - 0s 41us/step - loss: -30.3225 - val_loss: -30.3550\n",
      "Epoch 33/50\n",
      "9000/9000 [==============================] - 0s 42us/step - loss: -30.3629 - val_loss: -30.3683\n",
      "Epoch 34/50\n",
      "9000/9000 [==============================] - 0s 41us/step - loss: -30.4165 - val_loss: -30.4550\n",
      "Epoch 35/50\n",
      "9000/9000 [==============================] - 0s 45us/step - loss: -30.4762 - val_loss: -30.5375\n",
      "Epoch 36/50\n",
      "9000/9000 [==============================] - 0s 42us/step - loss: -30.5435 - val_loss: -30.5832\n",
      "Epoch 37/50\n",
      "9000/9000 [==============================] - 0s 40us/step - loss: -30.5940 - val_loss: -30.5974\n",
      "Epoch 38/50\n",
      "9000/9000 [==============================] - 0s 43us/step - loss: -30.6493 - val_loss: -30.6447\n",
      "Epoch 39/50\n",
      "9000/9000 [==============================] - 0s 45us/step - loss: -30.7007 - val_loss: -30.6895\n",
      "Epoch 40/50\n",
      "9000/9000 [==============================] - 0s 42us/step - loss: -30.7247 - val_loss: -30.7299\n",
      "Epoch 41/50\n",
      "9000/9000 [==============================] - 0s 38us/step - loss: -30.7805 - val_loss: -30.7940\n",
      "Epoch 42/50\n",
      "9000/9000 [==============================] - 0s 42us/step - loss: -30.7998 - val_loss: -30.8275\n",
      "Epoch 43/50\n",
      "9000/9000 [==============================] - 0s 44us/step - loss: -30.8676 - val_loss: -30.8742\n",
      "Epoch 44/50\n",
      "9000/9000 [==============================] - 0s 40us/step - loss: -30.9018 - val_loss: -30.8735\n",
      "Epoch 45/50\n",
      "9000/9000 [==============================] - 0s 41us/step - loss: -30.9275 - val_loss: -30.9241\n",
      "Epoch 46/50\n",
      "9000/9000 [==============================] - 0s 41us/step - loss: -30.9485 - val_loss: -30.9824\n",
      "Epoch 47/50\n",
      "9000/9000 [==============================] - 0s 40us/step - loss: -31.0091 - val_loss: -30.9761\n",
      "Epoch 48/50\n",
      "9000/9000 [==============================] - 0s 45us/step - loss: -31.0395 - val_loss: -31.0514\n",
      "Epoch 49/50\n",
      "9000/9000 [==============================] - 0s 43us/step - loss: -31.0455 - val_loss: -31.0880\n",
      "Epoch 50/50\n",
      "9000/9000 [==============================] - 0s 47us/step - loss: -31.1136 - val_loss: -31.1332\n"
     ]
    }
   ],
   "source": [
    "\n",
    "# train the VAE \n",
    "x_train = data_vector\n",
    "x_test  = data_vector\n",
    "\n",
    "\n",
    "history = vae.fit(x_train,   # source\n",
    "                  x_train,   # target --> autoencoder, then the target is the same as the input\n",
    "                  shuffle = True,\n",
    "                  epochs = epochs,\n",
    "                  batch_size = batch_size,\n",
    "                  validation_data = (x_test, x_test))    # target = input also in the testing\n"
   ]
  },
  {
   "cell_type": "code",
   "execution_count": 53,
   "metadata": {},
   "outputs": [],
   "source": [
    "encoder = Model(x, z_mu)\n",
    "\n"
   ]
  },
  {
   "cell_type": "code",
   "execution_count": 54,
   "metadata": {},
   "outputs": [],
   "source": [
    "\n",
    "# display a plot of the latent space\n",
    "z_test = encoder.predict(x_test, batch_size = batch_size)\n",
    "\n"
   ]
  },
  {
   "cell_type": "code",
   "execution_count": 55,
   "metadata": {
    "scrolled": true
   },
   "outputs": [
    {
     "name": "stdout",
     "output_type": "stream",
     "text": [
      "z_test =  [[-0.16820231 -0.73007226]\n",
      " [-0.17080563 -0.71434915]\n",
      " [-0.16384754 -0.7259073 ]\n",
      " ...\n",
      " [-0.29126793 -0.7449486 ]\n",
      " [-0.33877963 -0.722064  ]\n",
      " [-0.36412668 -0.6566711 ]]\n",
      "x_test =  [[1.0176232  2.12638355]\n",
      " [0.97935557 2.00739126]\n",
      " [0.97211278 2.06177814]\n",
      " ...\n",
      " [1.93410387 3.06231269]\n",
      " [2.18501105 3.17589858]\n",
      " [2.12767644 2.7762441 ]]\n"
     ]
    }
   ],
   "source": [
    "print \"z_test = \", z_test\n",
    "\n",
    "print \"x_test = \", x_test\n",
    "\n"
   ]
  },
  {
   "cell_type": "code",
   "execution_count": 56,
   "metadata": {},
   "outputs": [
    {
     "name": "stdout",
     "output_type": "stream",
     "text": [
      "latent layer\n"
     ]
    },
    {
     "data": {
      "image/png": "[encoded data removed]",
      "text/plain": [
       "<Figure size 216x216 with 1 Axes>"
      ]
     },
     "metadata": {},
     "output_type": "display_data"
    },
    {
     "data": {
      "image/png": "[encoded data removed]",
      "text/plain": [
       "<Figure size 216x216 with 1 Axes>"
      ]
     },
     "metadata": {},
     "output_type": "display_data"
    }
   ],
   "source": [
    "#plt.hist( z_test[:,0], bins = 50)\n",
    "#plt.hist( x_test[:,0], bins = 50)\n",
    "\n",
    "\n",
    "print \"latent layer\"\n",
    "\n",
    "for inode in range(latent_dim):\n",
    "  fig = plt.figure(figsize = (3,3))\n",
    "  plt.hist( z_test[:,inode], bins = 50)\n",
    "\n",
    "\n"
   ]
  },
  {
   "cell_type": "code",
   "execution_count": 57,
   "metadata": {},
   "outputs": [
    {
     "data": {
      "image/png": "[encoded data removed]",
      "text/plain": [
       "<Figure size 864x864 with 1 Axes>"
      ]
     },
     "metadata": {},
     "output_type": "display_data"
    }
   ],
   "source": [
    "\n",
    "\n",
    "#########################################################\n",
    "## validation plot\n",
    "\n",
    "fig_validation = plt.figure(original_dim+latent_dim, figsize=(12,12))\n",
    "\n",
    "epochs = range(1, len(history.history[\"loss\"])+1)\n",
    "plt.plot(epochs, history.history[\"loss\"], lw=3, label=\"Training loss\")\n",
    "plt.plot(epochs, history.history[\"val_loss\"], lw=3, label=\"Validation loss\")\n",
    "plt.xlabel(\"Epoch\"), plt.ylabel(\"Cross-entropy loss + KL\");\n",
    "\n",
    "# print(history.history)\n"
   ]
  },
  {
   "cell_type": "code",
   "execution_count": 58,
   "metadata": {},
   "outputs": [
    {
     "name": "stdout",
     "output_type": "stream",
     "text": [
      "__________________________________________________________________________________________________\n",
      "Layer (type)                    Output Shape         Param #     Connected to                     \n",
      "==================================================================================================\n",
      "input_5 (InputLayer)            (None, 2)            0                                            \n",
      "__________________________________________________________________________________________________\n",
      "dense_13 (Dense)                (None, 3)            9           input_5[0][0]                    \n",
      "__________________________________________________________________________________________________\n",
      "dense_14 (Dense)                (None, 2)            8           dense_13[0][0]                   \n",
      "__________________________________________________________________________________________________\n",
      "dense_15 (Dense)                (None, 2)            8           dense_13[0][0]                   \n",
      "__________________________________________________________________________________________________\n",
      "kl_divergence_layer_3 (KLDiverg [(None, 2), (None, 2 0           dense_14[0][0]                   \n",
      "                                                                 dense_15[0][0]                   \n",
      "__________________________________________________________________________________________________\n",
      "lambda_3 (Lambda)               (None, 2)            0           kl_divergence_layer_3[0][1]      \n",
      "__________________________________________________________________________________________________\n",
      "input_6 (InputLayer)            (None, 2)            0                                            \n",
      "__________________________________________________________________________________________________\n",
      "multiply_3 (Multiply)           (None, 2)            0           lambda_3[0][0]                   \n",
      "                                                                 input_6[0][0]                    \n",
      "__________________________________________________________________________________________________\n",
      "add_3 (Add)                     (None, 2)            0           kl_divergence_layer_3[0][0]      \n",
      "                                                                 multiply_3[0][0]                 \n",
      "__________________________________________________________________________________________________\n",
      "sequential_3 (Sequential)       (None, 2)            17          add_3[0][0]                      \n",
      "==================================================================================================\n",
      "Total params: 42\n",
      "Trainable params: 42\n",
      "Non-trainable params: 0\n",
      "__________________________________________________________________________________________________\n"
     ]
    }
   ],
   "source": [
    "\n",
    "#########################################################\n",
    "## plot structure of NN\n",
    "\n",
    "from keras.utils import plot_model, print_summary\n",
    "print_summary(vae)\n",
    "\n",
    "plot_model(vae, to_file='model_plot.png', show_shapes=True, show_layer_names=True)\n",
    "\n"
   ]
  },
  {
   "cell_type": "code",
   "execution_count": 59,
   "metadata": {},
   "outputs": [
    {
     "name": "stdout",
     "output_type": "stream",
     "text": [
      "2D: reg vs original\n"
     ]
    },
    {
     "data": {
      "image/png": "[encoded data removed]",
      "text/plain": [
       "<Figure size 288x288 with 1 Axes>"
      ]
     },
     "metadata": {},
     "output_type": "display_data"
    },
    {
     "data": {
      "image/png": "[encoded data removed]",
      "text/plain": [
       "<Figure size 288x288 with 1 Axes>"
      ]
     },
     "metadata": {},
     "output_type": "display_data"
    }
   ],
   "source": [
    "print \"2D: reg vs original\"\n",
    "\n",
    "x_reg_test = vae.predict(x_test, batch_size = batch_size)\n",
    "\n",
    "for inode in range(original_dim):\n",
    "  fig = plt.figure(figsize = (4,4))\n",
    "  plt.hist2d( x_test[:,inode], x_reg_test[:,inode], bins = 50)\n",
    "    \n",
    "    "
   ]
  },
  {
   "cell_type": "code",
   "execution_count": 60,
   "metadata": {},
   "outputs": [
    {
     "name": "stdout",
     "output_type": "stream",
     "text": [
      "input\n"
     ]
    },
    {
     "data": {
      "image/png": "[encoded data removed]",
      "text/plain": [
       "<Figure size 216x216 with 1 Axes>"
      ]
     },
     "metadata": {},
     "output_type": "display_data"
    },
    {
     "data": {
      "image/png": "[encoded data removed]",
      "text/plain": [
       "<Figure size 216x216 with 1 Axes>"
      ]
     },
     "metadata": {},
     "output_type": "display_data"
    }
   ],
   "source": [
    "\n",
    "print \"input\"\n",
    "\n",
    "for inode in range(original_dim):\n",
    "  fig = plt.figure(figsize = (3,3))\n",
    "  plt.hist( x_test[:,inode], bins = 50)\n"
   ]
  },
  {
   "cell_type": "code",
   "execution_count": 61,
   "metadata": {},
   "outputs": [
    {
     "name": "stdout",
     "output_type": "stream",
     "text": [
      "output\n"
     ]
    },
    {
     "data": {
      "image/png": "[encoded data removed]",
      "text/plain": [
       "<Figure size 288x288 with 1 Axes>"
      ]
     },
     "metadata": {},
     "output_type": "display_data"
    },
    {
     "data": {
      "image/png": "[encoded data removed]",
      "text/plain": [
       "<Figure size 288x288 with 1 Axes>"
      ]
     },
     "metadata": {},
     "output_type": "display_data"
    }
   ],
   "source": [
    "print \"output\"\n",
    "\n",
    "for inode in range(original_dim):\n",
    "   fig = plt.figure(figsize = (4,4))\n",
    "   plt.hist( x_reg_test[:,inode], bins = 50)\n"
   ]
  },
  {
   "cell_type": "code",
   "execution_count": null,
   "metadata": {},
   "outputs": [],
   "source": []
  },
  {
   "cell_type": "code",
   "execution_count": null,
   "metadata": {},
   "outputs": [],
   "source": []
  },
  {
   "cell_type": "code",
   "execution_count": null,
   "metadata": {},
   "outputs": [],
   "source": []
  }
 ],
 "metadata": {
  "kernelspec": {
   "display_name": "Python 2",
   "language": "python",
   "name": "python2"
  },
  "language_info": {
   "codemirror_mode": {
    "name": "ipython",
    "version": 2
   },
   "file_extension": ".py",
   "mimetype": "text/x-python",
   "name": "python",
   "nbconvert_exporter": "python",
   "pygments_lexer": "ipython2",
   "version": "2.7.15"
  }
 },
 "nbformat": 4,
 "nbformat_minor": 2
}

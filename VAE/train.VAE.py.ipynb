{
 "cells": [
  {
   "cell_type": "code",
   "execution_count": 1,
   "metadata": {},
   "outputs": [
    {
     "name": "stdout",
     "output_type": "stream",
     "text": [
      "Welcome to JupyROOT 6.14/04\n"
     ]
    }
   ],
   "source": [
    "import ROOT as root\n",
    "import numpy as np\n",
    "\n",
    "np.random.seed(1234)\n",
    "\n"
   ]
  },
  {
   "cell_type": "code",
   "execution_count": 2,
   "metadata": {},
   "outputs": [],
   "source": [
    "\n",
    "def getDataFromFile(fileinfo, branchlist) :\n",
    "\n",
    "  tfil = root.TFile(fileinfo)\n",
    "  tree = tfil.Get('flatTree')\n",
    "  datasize = tree.GetEntriesFast()\n",
    "  \n",
    "  print \"Reading NN inputs from \" + fileinfo\n",
    "  data = np.empty([datasize, len(branchlist)])\n",
    "  counter = 0\n",
    "  for entry in tree :\n",
    "    bridx = 0\n",
    "    for branch in branchlist :\n",
    "      data[counter][bridx] = getattr(entry, branch)\n",
    "      bridx = bridx + 1\n",
    "\n",
    "    counter = counter + 1\n",
    "  \n",
    "  tfil.Close()\n",
    "\n",
    "  return data\n",
    "\n",
    "\n",
    "\n",
    "\n",
    "def getDataFromFileWithCut(fileinfo, branchlist, cut_variable, cut_value) :\n",
    "\n",
    "  tfil = root.TFile(fileinfo)\n",
    "  tree = tfil.Get('flatTree')\n",
    "  \n",
    "  datasize = tree.GetEntries(cut_variable + \" == \" +  str(cut_value))\n",
    "  \n",
    "  print \"Reading NN inputs from \" + fileinfo\n",
    "  data = np.empty([datasize, len(branchlist)])\n",
    "  counter = 0\n",
    "  for entry in tree :\n",
    "    bridx = 0\n",
    "    \n",
    "    # check cut\n",
    "    if getattr(entry, cut_variable) == cut_value :\n",
    "    \n",
    "      for branch in branchlist :\n",
    "        data[counter][bridx] = getattr(entry, branch)\n",
    "          \n",
    "        bridx = bridx + 1\n",
    "     \n",
    "      counter = counter + 1\n",
    "  \n",
    "  tfil.Close()\n",
    "\n",
    "  print \" counter = \", counter \n",
    "  \n",
    "  return data\n",
    "\n",
    "\n",
    "\n",
    "\n",
    "\n",
    "\n",
    "def getDataFromFileWithCutGreater(fileinfo, branchlist, cut_variable, cut_value) :\n",
    "\n",
    "  tfil = root.TFile(fileinfo)\n",
    "  tree = tfil.Get('flatTree')\n",
    "\n",
    "  datasize = tree.GetEntries(cut_variable + \" >= \" +  str(cut_value))\n",
    " \n",
    "  print \"Reading NN inputs from \" + fileinfo\n",
    "  data = np.empty([datasize, len(branchlist)])\n",
    "  counter = 0\n",
    "  for entry in tree :\n",
    "    bridx = 0\n",
    "    \n",
    "    # check cut\n",
    "    if getattr(entry, cut_variable) >= cut_value :\n",
    "    \n",
    "      for branch in branchlist :\n",
    "        data[counter][bridx] = getattr(entry, branch)\n",
    "        bridx = bridx + 1\n",
    "     \n",
    "      counter = counter + 1\n",
    "  \n",
    "  tfil.Close()\n",
    "\n",
    "  print \" counter = \", counter \n",
    "  \n",
    "  return data\n"
   ]
  },
  {
   "cell_type": "code",
   "execution_count": 3,
   "metadata": {},
   "outputs": [
    {
     "name": "stdout",
     "output_type": "stream",
     "text": [
      " brlist =  ['tk_dedxl0', 'tk_dedxl1', 'tk_dedxl2', 'tk_dedxl3']\n",
      "Reading NN inputs from flat_tree_Z.root\n",
      " counter =  70449\n",
      " bkg data.size =  281796  --->  70449\n",
      "Splitting data between 35224 training and 35224 testing samples bkg ...\n"
     ]
    }
   ],
   "source": [
    "\n",
    "#######################################\n",
    "#\n",
    "# Start here\n",
    "#\n",
    "\n",
    "zllfile = 'flat_tree_Z.root'\n",
    " \n",
    "# brlist  = ['tk_dedxl0', 'tk_dedxl1', 'tk_dedxl2', 'tk_dedxl3', 'tk_dedxl4', 'tk_dedxl5', 'tk_dedxl6']\n",
    "# brlist  = ['tk_dedxl0', 'tk_dedxl1', 'tk_dedxl2', 'tk_dedxl3', 'tk_dedxl4']\n",
    "brlist  = ['tk_dedxl0', 'tk_dedxl1', 'tk_dedxl2', 'tk_dedxl3']\n",
    "numvars = len(brlist)\n",
    "ntrain  =  0.50   # 80% for train\n",
    "ntest   =  1 - ntrain\n",
    "\n",
    "print \" brlist = \", brlist\n",
    "data_bkg = getDataFromFileWithCutGreater (zllfile, brlist, 'tk_category', 1 )\n",
    "\n",
    "print \" bkg data.size = \" , data_bkg.size , \" ---> \", data_bkg.size/numvars\n",
    "\n",
    "datasize_bkg = data_bkg.size/numvars\n",
    "\n",
    "print \"Splitting data between \" + str(int(len(data_bkg)*ntrain)) + \" training and \" + str(int(len(data_bkg)*ntest)) + \" testing samples bkg ...\"\n",
    "\n",
    "data_bkg_train = data_bkg[ : int(len(data_bkg)*ntrain) ]\n",
    "data_bkg_test  = data_bkg[ int(len(data_bkg)*ntrain) : ]\n",
    "\n",
    "data_train = np.vstack( [ data_bkg_train] )\n",
    "data_test  = np.vstack( [ data_bkg_test ] )\n"
   ]
  },
  {
   "cell_type": "code",
   "execution_count": 4,
   "metadata": {},
   "outputs": [
    {
     "name": "stderr",
     "output_type": "stream",
     "text": [
      "Using TensorFlow backend.\n"
     ]
    }
   ],
   "source": [
    "#\n",
    "#\n",
    "#\n",
    "# Keras model\n",
    "#\n",
    "#\n",
    "\n",
    "import matplotlib.pyplot as plt\n",
    "\n",
    "from matplotlib import cm\n",
    "\n",
    "from scipy.stats import norm\n",
    "\n",
    "from keras import backend as K\n",
    "\n",
    "from keras.layers import Input, Dense, Lambda, Layer, Add, Multiply\n",
    "from keras.models import Model, Sequential\n",
    "from keras.datasets import mnist\n",
    "\n",
    "original_dim = numvars\n",
    "intermediate_dim = 4\n",
    "# latent_dim = 7    # one for each layer ?\n",
    "latent_dim = 4    # one for each layer ?\n",
    "batch_size = 100\n",
    "epochs = 50\n",
    "epsilon_std = 1.0\n",
    "\n",
    "\n"
   ]
  },
  {
   "cell_type": "code",
   "execution_count": 5,
   "metadata": {},
   "outputs": [],
   "source": [
    "\n",
    "def nll(y_true, y_pred):\n",
    "    \"\"\" Negative log likelihood (Bernoulli). \"\"\"\n",
    "\n",
    "    # keras.losses.binary_crossentropy gives the mean\n",
    "    # over the last axis. we require the sum\n",
    "    return K.sum(K.binary_crossentropy(y_true, y_pred), axis=-1)\n",
    "\n"
   ]
  },
  {
   "cell_type": "code",
   "execution_count": 6,
   "metadata": {},
   "outputs": [],
   "source": [
    "\n",
    "class KLDivergenceLayer(Layer):\n",
    "\n",
    "    \"\"\" Identity transform layer that adds KL divergence\n",
    "    to the final model loss.\n",
    "    \"\"\"\n",
    "\n",
    "    def __init__(self, *args, **kwargs):\n",
    "        self.is_placeholder = True\n",
    "        super(KLDivergenceLayer, self).__init__(*args, **kwargs)\n",
    "\n",
    "    def call(self, inputs):\n",
    "\n",
    "        mu, log_var = inputs\n",
    "\n",
    "        print \" mu = \", mu\n",
    "        print \" log_var = \", log_var\n",
    "        \n",
    "        \n",
    "        kl_batch = - .5 * K.sum(1 + log_var -\n",
    "                                K.square(mu) -\n",
    "                                K.exp(log_var), axis=-1)\n",
    "\n",
    "        self.add_loss(K.mean(kl_batch), inputs=inputs)\n",
    "\n",
    "        return inputs\n"
   ]
  },
  {
   "cell_type": "code",
   "execution_count": 7,
   "metadata": {},
   "outputs": [],
   "source": [
    "\n",
    "decoder = Sequential ([\n",
    "    Dense(intermediate_dim, input_dim=latent_dim, activation='relu'),\n",
    "    Dense(original_dim, activation='sigmoid')\n",
    "    ])\n",
    "\n"
   ]
  },
  {
   "cell_type": "code",
   "execution_count": 8,
   "metadata": {},
   "outputs": [
    {
     "name": "stdout",
     "output_type": "stream",
     "text": [
      " mu =  Tensor(\"dense_4/BiasAdd:0\", shape=(?, 4), dtype=float32)\n",
      " log_var =  Tensor(\"dense_5/BiasAdd:0\", shape=(?, 4), dtype=float32)\n"
     ]
    }
   ],
   "source": [
    "x = Input(shape=(original_dim,))\n",
    "h = Dense(intermediate_dim, activation='relu')(x)\n",
    "\n",
    "#\n",
    "# h intermediate step\n",
    "#\n",
    "\n",
    "z_mu = Dense(latent_dim)(h)\n",
    "z_log_var = Dense(latent_dim)(h)\n",
    "\n",
    "#\n",
    "# from h -> 2 layers\n",
    "#\n",
    "\n",
    "z_mu, z_log_var = KLDivergenceLayer()([z_mu, z_log_var])\n",
    "\n",
    "z_sigma = Lambda(lambda t: K.exp(.5*t))(z_log_var)\n",
    "#\n",
    "# Add a new layer that takes \"t\" and does \"exp(0.5 * t)\", and apply it to \"z_log_var\"\n",
    "# See here for more details: https://keras.io/layers/core/\n",
    "#\n",
    "\n",
    "eps = Input (tensor = K.random_normal( stddev=epsilon_std, shape=(K.shape(x)[0], latent_dim) ) )\n",
    "\n",
    "z_eps = Multiply()([z_sigma, eps])\n",
    "#\n",
    "# Layer that multiplies (element-wise) a list of inputs.\n",
    "# It takes as input a list of tensors, all of the same shape, and returns a single tensor (also of the same shape).\n",
    "#\n",
    "\n",
    "z = Add()([z_mu, z_eps])\n",
    "#\n",
    "# Layer that adds a list of inputs.\n",
    "# It takes as input a list of tensors, all of the same shape, and returns a single tensor (also of the same shape).\n",
    "#\n",
    "\n",
    "x_pred = decoder(z)\n"
   ]
  },
  {
   "cell_type": "code",
   "execution_count": 9,
   "metadata": {},
   "outputs": [],
   "source": [
    "\n",
    "vae = Model ( inputs=[x, eps], outputs=x_pred)\n",
    "vae.compile (optimizer='rmsprop', loss=nll)\n"
   ]
  },
  {
   "cell_type": "code",
   "execution_count": 10,
   "metadata": {},
   "outputs": [
    {
     "name": "stdout",
     "output_type": "stream",
     "text": [
      "Train on 35224 samples, validate on 35225 samples\n",
      "Epoch 1/50\n",
      "35224/35224 [==============================] - 2s 65us/step - loss: -11.7486 - val_loss: -42.2746\n",
      "Epoch 2/50\n",
      "35224/35224 [==============================] - 2s 53us/step - loss: -77.7337 - val_loss: -109.1529\n",
      "Epoch 3/50\n",
      "35224/35224 [==============================] - 2s 54us/step - loss: -120.6602 - val_loss: -127.0216\n",
      "Epoch 4/50\n",
      "35224/35224 [==============================] - 2s 48us/step - loss: -128.6508 - val_loss: -129.8662\n",
      "Epoch 5/50\n",
      "35224/35224 [==============================] - 2s 46us/step - loss: -130.3861 - val_loss: -130.9798\n",
      "Epoch 6/50\n",
      "35224/35224 [==============================] - 2s 50us/step - loss: -131.6440 - val_loss: -132.7532\n",
      "Epoch 7/50\n",
      "35224/35224 [==============================] - 2s 51us/step - loss: -134.4403 - val_loss: -136.3385\n",
      "Epoch 8/50\n",
      "35224/35224 [==============================] - 2s 52us/step - loss: -137.5436 - val_loss: -138.8525\n",
      "Epoch 9/50\n",
      "35224/35224 [==============================] - 2s 52us/step - loss: -140.1784 - val_loss: -141.0895\n",
      "Epoch 10/50\n",
      "35224/35224 [==============================] - 2s 49us/step - loss: -141.4391 - val_loss: -141.7514\n",
      "Epoch 11/50\n",
      "35224/35224 [==============================] - 2s 56us/step - loss: -141.8701 - val_loss: -142.0611\n",
      "Epoch 12/50\n",
      "35224/35224 [==============================] - 2s 55us/step - loss: -142.1349 - val_loss: -142.2248\n",
      "Epoch 13/50\n",
      "35224/35224 [==============================] - 2s 55us/step - loss: -142.2941 - val_loss: -142.3970\n",
      "Epoch 14/50\n",
      "35224/35224 [==============================] - 2s 53us/step - loss: -142.3998 - val_loss: -142.4967\n",
      "Epoch 15/50\n",
      "35224/35224 [==============================] - 2s 51us/step - loss: -142.5164 - val_loss: -142.5891\n",
      "Epoch 16/50\n",
      "35224/35224 [==============================] - 2s 54us/step - loss: -142.6140 - val_loss: -142.6909\n",
      "Epoch 17/50\n",
      "35224/35224 [==============================] - 2s 55us/step - loss: -142.6818 - val_loss: -142.7248\n",
      "Epoch 18/50\n",
      "35224/35224 [==============================] - 2s 56us/step - loss: -142.7204 - val_loss: -142.7787\n",
      "Epoch 19/50\n",
      "35224/35224 [==============================] - 2s 56us/step - loss: -142.7986 - val_loss: -142.8252\n",
      "Epoch 20/50\n",
      "35224/35224 [==============================] - 2s 52us/step - loss: -142.8352 - val_loss: -142.9096\n",
      "Epoch 21/50\n",
      "35224/35224 [==============================] - 2s 48us/step - loss: -142.8528 - val_loss: -142.8988\n",
      "Epoch 22/50\n",
      "35224/35224 [==============================] - 2s 46us/step - loss: -142.8825 - val_loss: -142.9154\n",
      "Epoch 23/50\n",
      "35224/35224 [==============================] - 2s 48us/step - loss: -142.8996 - val_loss: -142.9863\n",
      "Epoch 24/50\n",
      "35224/35224 [==============================] - 2s 51us/step - loss: -142.9465 - val_loss: -142.9600\n",
      "Epoch 25/50\n",
      "35224/35224 [==============================] - 2s 53us/step - loss: -142.9551 - val_loss: -142.9809\n",
      "Epoch 26/50\n",
      "35224/35224 [==============================] - 2s 52us/step - loss: -142.9721 - val_loss: -143.0292\n",
      "Epoch 27/50\n",
      "35224/35224 [==============================] - 2s 47us/step - loss: -143.0252 - val_loss: -143.0584\n",
      "Epoch 28/50\n",
      "35224/35224 [==============================] - 2s 53us/step - loss: -143.0442 - val_loss: -143.0690\n",
      "Epoch 29/50\n",
      "35224/35224 [==============================] - 2s 51us/step - loss: -143.0980 - val_loss: -143.1332\n",
      "Epoch 30/50\n",
      "35224/35224 [==============================] - 2s 51us/step - loss: -143.1179 - val_loss: -143.1362\n",
      "Epoch 31/50\n",
      "35224/35224 [==============================] - 2s 52us/step - loss: -143.1169 - val_loss: -143.1462\n",
      "Epoch 32/50\n",
      "35224/35224 [==============================] - 2s 52us/step - loss: -143.1379 - val_loss: -143.1851\n",
      "Epoch 33/50\n",
      "35224/35224 [==============================] - 2s 52us/step - loss: -143.1623 - val_loss: -143.2329\n",
      "Epoch 34/50\n",
      "35224/35224 [==============================] - 2s 50us/step - loss: -143.2089 - val_loss: -143.2623\n",
      "Epoch 35/50\n",
      "35224/35224 [==============================] - 2s 51us/step - loss: -143.2399 - val_loss: -143.2847\n",
      "Epoch 36/50\n",
      "35224/35224 [==============================] - 2s 50us/step - loss: -143.2597 - val_loss: -143.3332\n",
      "Epoch 37/50\n",
      "35224/35224 [==============================] - 2s 47us/step - loss: -143.3132 - val_loss: -143.3602\n",
      "Epoch 38/50\n",
      "35224/35224 [==============================] - 2s 44us/step - loss: -143.3363 - val_loss: -143.3624\n",
      "Epoch 39/50\n",
      "35224/35224 [==============================] - 2s 50us/step - loss: -143.3416 - val_loss: -143.3818\n",
      "Epoch 40/50\n",
      "35224/35224 [==============================] - 2s 47us/step - loss: -143.3581 - val_loss: -143.3080\n",
      "Epoch 41/50\n",
      "35224/35224 [==============================] - 2s 47us/step - loss: -143.3116 - val_loss: -143.3270\n",
      "Epoch 42/50\n",
      "35224/35224 [==============================] - 2s 49us/step - loss: -143.3540 - val_loss: -143.4277\n",
      "Epoch 43/50\n",
      "35224/35224 [==============================] - 2s 51us/step - loss: -143.3811 - val_loss: -143.4245\n",
      "Epoch 44/50\n",
      "35224/35224 [==============================] - 2s 52us/step - loss: -143.3081 - val_loss: -143.3493\n",
      "Epoch 45/50\n",
      "35224/35224 [==============================] - 2s 50us/step - loss: -143.3082 - val_loss: -143.3463\n",
      "Epoch 46/50\n",
      "35224/35224 [==============================] - 2s 50us/step - loss: -143.3694 - val_loss: -143.3378\n",
      "Epoch 47/50\n",
      "35224/35224 [==============================] - 2s 49us/step - loss: -143.3684 - val_loss: -143.3533\n",
      "Epoch 48/50\n",
      "35224/35224 [==============================] - 2s 51us/step - loss: -143.4046 - val_loss: -143.4556\n",
      "Epoch 49/50\n",
      "35224/35224 [==============================] - 2s 52us/step - loss: -143.3876 - val_loss: -143.4490\n",
      "Epoch 50/50\n",
      "35224/35224 [==============================] - 2s 50us/step - loss: -143.4258 - val_loss: -143.4259\n"
     ]
    },
    {
     "name": "stderr",
     "output_type": "stream",
     "text": [
      "2018-12-18 17:46:54.446189: I tensorflow/core/platform/cpu_feature_guard.cc:140] Your CPU supports instructions that this TensorFlow binary was not compiled to use: SSE4.1 SSE4.2 AVX AVX2 FMA\n"
     ]
    }
   ],
   "source": [
    "\n",
    "# train the VAE \n",
    "x_train = data_train\n",
    "x_test  = data_test\n",
    "\n",
    "\n",
    "history = vae.fit(x_train,   # source\n",
    "                  x_train,   # target --> autoencoder, then the target is the same as the input\n",
    "                  shuffle = True,\n",
    "                  epochs = epochs,\n",
    "                  batch_size = batch_size,\n",
    "                  validation_data = (x_test, x_test))    # target = input also in the testing\n"
   ]
  },
  {
   "cell_type": "code",
   "execution_count": 11,
   "metadata": {},
   "outputs": [],
   "source": [
    "encoder = Model(x, z_mu)\n",
    "\n"
   ]
  },
  {
   "cell_type": "code",
   "execution_count": 12,
   "metadata": {},
   "outputs": [],
   "source": [
    "\n",
    "# display a plot of the latent space\n",
    "z_test = encoder.predict(x_test, batch_size = batch_size)\n",
    "\n"
   ]
  },
  {
   "cell_type": "code",
   "execution_count": 13,
   "metadata": {},
   "outputs": [
    {
     "name": "stdout",
     "output_type": "stream",
     "text": [
      "z_test =  [[ 6.4241244e-03 -3.6707269e-03 -5.4344642e-01  2.3627896e-02]\n",
      " [ 5.1286351e-04  1.9573700e-04 -5.1889431e-01 -2.3145489e-03]\n",
      " [ 5.0080670e-03 -5.3018974e-03 -5.6047475e-01  6.5239854e-03]\n",
      " ...\n",
      " [ 9.6352203e-03 -1.8554302e-03  1.6372753e+00  2.0907778e-02]\n",
      " [ 1.0246064e-02 -6.5508382e-03 -5.6421506e-01  3.6016602e-02]\n",
      " [ 9.7665442e-03 -1.3620751e-03  1.6437885e+00  2.8174777e-02]]\n",
      "x_test =  [[ 3.09220743  2.91992331  2.75642848  3.9106195 ]\n",
      " [ 2.30208063  2.25768137  4.39406109  2.08791327]\n",
      " [ 6.45768356  2.49957013  4.46570492  3.20503378]\n",
      " ...\n",
      " [ 3.21668196  2.88433599  2.30361819 -1.        ]\n",
      " [ 4.00258541  2.30555749  2.87209988  3.703614  ]\n",
      " [ 1.39788163  2.44209385  2.4899857  -1.        ]]\n"
     ]
    }
   ],
   "source": [
    "print \"z_test = \", z_test\n",
    "\n",
    "print \"x_test = \", x_test\n",
    "\n"
   ]
  },
  {
   "cell_type": "code",
   "execution_count": 14,
   "metadata": {},
   "outputs": [
    {
     "name": "stdout",
     "output_type": "stream",
     "text": [
      "latent layer\n"
     ]
    },
    {
     "data": {
      "image/png": "[encoded data removed]",
      "text/plain": [
       "<Figure size 216x216 with 1 Axes>"
      ]
     },
     "metadata": {},
     "output_type": "display_data"
    },
    {
     "data": {
      "image/png": "[encoded data removed]",
      "text/plain": [
       "<Figure size 216x216 with 1 Axes>"
      ]
     },
     "metadata": {},
     "output_type": "display_data"
    },
    {
     "data": {
      "image/png": "[encoded data removed]",
      "text/plain": [
       "<Figure size 216x216 with 1 Axes>"
      ]
     },
     "metadata": {},
     "output_type": "display_data"
    },
    {
     "data": {
      "image/png": "[encoded data removed]",
      "text/plain": [
       "<Figure size 216x216 with 1 Axes>"
      ]
     },
     "metadata": {},
     "output_type": "display_data"
    }
   ],
   "source": [
    "#plt.hist( z_test[:,0], bins = 50)\n",
    "#plt.hist( x_test[:,0], bins = 50)\n",
    "\n",
    "\n",
    "print \"latent layer\"\n",
    "\n",
    "for inode in range(latent_dim):\n",
    "  fig = plt.figure(figsize = (3,3))\n",
    "  plt.hist( z_test[:,inode], bins = 50)\n",
    "\n",
    "\n"
   ]
  },
  {
   "cell_type": "code",
   "execution_count": null,
   "metadata": {},
   "outputs": [],
   "source": []
  },
  {
   "cell_type": "code",
   "execution_count": 15,
   "metadata": {},
   "outputs": [
    {
     "data": {
      "image/png": "[encoded data removed]",
      "text/plain": [
       "<Figure size 864x864 with 1 Axes>"
      ]
     },
     "metadata": {},
     "output_type": "display_data"
    }
   ],
   "source": [
    "\n",
    "\n",
    "#########################################################\n",
    "## validation plot\n",
    "\n",
    "fig_validation = plt.figure(original_dim+latent_dim, figsize=(12,12))\n",
    "\n",
    "epochs = range(1, len(history.history[\"loss\"])+1)\n",
    "plt.plot(epochs, history.history[\"loss\"], lw=3, label=\"Training loss\")\n",
    "plt.plot(epochs, history.history[\"val_loss\"], lw=3, label=\"Validation loss\")\n",
    "plt.xlabel(\"Epoch\"), plt.ylabel(\"Cross-entropy loss\");\n",
    "\n"
   ]
  },
  {
   "cell_type": "code",
   "execution_count": 16,
   "metadata": {},
   "outputs": [
    {
     "name": "stdout",
     "output_type": "stream",
     "text": [
      "__________________________________________________________________________________________________\n",
      "Layer (type)                    Output Shape         Param #     Connected to                     \n",
      "==================================================================================================\n",
      "input_1 (InputLayer)            (None, 4)            0                                            \n",
      "__________________________________________________________________________________________________\n",
      "dense_3 (Dense)                 (None, 4)            20          input_1[0][0]                    \n",
      "__________________________________________________________________________________________________\n",
      "dense_4 (Dense)                 (None, 4)            20          dense_3[0][0]                    \n",
      "__________________________________________________________________________________________________\n",
      "dense_5 (Dense)                 (None, 4)            20          dense_3[0][0]                    \n",
      "__________________________________________________________________________________________________\n",
      "kl_divergence_layer_1 (KLDiverg [(None, 4), (None, 4 0           dense_4[0][0]                    \n",
      "                                                                 dense_5[0][0]                    \n",
      "__________________________________________________________________________________________________\n",
      "lambda_1 (Lambda)               (None, 4)            0           kl_divergence_layer_1[0][1]      \n",
      "__________________________________________________________________________________________________\n",
      "input_2 (InputLayer)            (None, 4)            0                                            \n",
      "__________________________________________________________________________________________________\n",
      "multiply_1 (Multiply)           (None, 4)            0           lambda_1[0][0]                   \n",
      "                                                                 input_2[0][0]                    \n",
      "__________________________________________________________________________________________________\n",
      "add_1 (Add)                     (None, 4)            0           kl_divergence_layer_1[0][0]      \n",
      "                                                                 multiply_1[0][0]                 \n",
      "__________________________________________________________________________________________________\n",
      "sequential_1 (Sequential)       (None, 4)            40          add_1[0][0]                      \n",
      "==================================================================================================\n",
      "Total params: 100\n",
      "Trainable params: 100\n",
      "Non-trainable params: 0\n",
      "__________________________________________________________________________________________________\n"
     ]
    }
   ],
   "source": [
    "\n",
    "#########################################################\n",
    "## plot structure of NN\n",
    "\n",
    "from keras.utils import plot_model, print_summary\n",
    "print_summary(vae)\n",
    "\n",
    "plot_model(vae, to_file='model_plot.png', show_shapes=True, show_layer_names=True)\n",
    "\n"
   ]
  },
  {
   "cell_type": "code",
   "execution_count": 17,
   "metadata": {},
   "outputs": [
    {
     "name": "stdout",
     "output_type": "stream",
     "text": [
      "2D: reg vs original\n"
     ]
    },
    {
     "data": {
      "image/png": "[encoded data removed]",
      "text/plain": [
       "<Figure size 288x288 with 1 Axes>"
      ]
     },
     "metadata": {},
     "output_type": "display_data"
    },
    {
     "data": {
      "image/png": "[encoded data removed]",
      "text/plain": [
       "<Figure size 288x288 with 1 Axes>"
      ]
     },
     "metadata": {},
     "output_type": "display_data"
    },
    {
     "data": {
      "image/png": "[encoded data removed]",
      "text/plain": [
       "<Figure size 288x288 with 1 Axes>"
      ]
     },
     "metadata": {},
     "output_type": "display_data"
    },
    {
     "data": {
      "image/png": "[encoded data removed]",
      "text/plain": [
       "<Figure size 288x288 with 1 Axes>"
      ]
     },
     "metadata": {},
     "output_type": "display_data"
    }
   ],
   "source": [
    "print \"2D: reg vs original\"\n",
    "\n",
    "x_reg_test = vae.predict(x_test, batch_size = batch_size)\n",
    "\n",
    "for inode in range(original_dim):\n",
    "  fig = plt.figure(figsize = (4,4))\n",
    "  plt.hist2d( x_test[:,inode], x_reg_test[:,inode], bins = 50)\n",
    "    \n",
    "    "
   ]
  },
  {
   "cell_type": "code",
   "execution_count": 18,
   "metadata": {},
   "outputs": [
    {
     "name": "stdout",
     "output_type": "stream",
     "text": [
      "input\n"
     ]
    },
    {
     "data": {
      "image/png": "[encoded data removed]",
      "text/plain": [
       "<Figure size 216x216 with 1 Axes>"
      ]
     },
     "metadata": {},
     "output_type": "display_data"
    },
    {
     "data": {
      "image/png": "[encoded data removed]",
      "text/plain": [
       "<Figure size 216x216 with 1 Axes>"
      ]
     },
     "metadata": {},
     "output_type": "display_data"
    },
    {
     "data": {
      "image/png": "[encoded data removed]",
      "text/plain": [
       "<Figure size 216x216 with 1 Axes>"
      ]
     },
     "metadata": {},
     "output_type": "display_data"
    },
    {
     "data": {
      "image/png": "[encoded data removed]",
      "text/plain": [
       "<Figure size 216x216 with 1 Axes>"
      ]
     },
     "metadata": {},
     "output_type": "display_data"
    }
   ],
   "source": [
    "\n",
    "print \"input\"\n",
    "\n",
    "for inode in range(original_dim):\n",
    "  fig = plt.figure(figsize = (3,3))\n",
    "  plt.hist( x_test[:,inode], bins = 50)\n"
   ]
  },
  {
   "cell_type": "code",
   "execution_count": 19,
   "metadata": {},
   "outputs": [
    {
     "name": "stdout",
     "output_type": "stream",
     "text": [
      "output\n"
     ]
    },
    {
     "data": {
      "image/png": "[encoded data removed]",
      "text/plain": [
       "<Figure size 288x288 with 1 Axes>"
      ]
     },
     "metadata": {},
     "output_type": "display_data"
    },
    {
     "data": {
      "image/png": "[encoded data removed]",
      "text/plain": [
       "<Figure size 288x288 with 1 Axes>"
      ]
     },
     "metadata": {},
     "output_type": "display_data"
    },
    {
     "data": {
      "image/png": "[encoded data removed]",
      "text/plain": [
       "<Figure size 288x288 with 1 Axes>"
      ]
     },
     "metadata": {},
     "output_type": "display_data"
    },
    {
     "data": {
      "image/png": "[encoded data removed]",
      "text/plain": [
       "<Figure size 288x288 with 1 Axes>"
      ]
     },
     "metadata": {},
     "output_type": "display_data"
    }
   ],
   "source": [
    "print \"output\"\n",
    "\n",
    "for inode in range(original_dim):\n",
    "   fig = plt.figure(figsize = (4,4))\n",
    "   plt.hist( x_reg_test[:,inode], bins = 50)\n"
   ]
  },
  {
   "cell_type": "code",
   "execution_count": null,
   "metadata": {},
   "outputs": [],
   "source": []
  },
  {
   "cell_type": "code",
   "execution_count": null,
   "metadata": {},
   "outputs": [],
   "source": []
  },
  {
   "cell_type": "code",
   "execution_count": null,
   "metadata": {},
   "outputs": [],
   "source": []
  }
 ],
 "metadata": {
  "kernelspec": {
   "display_name": "Python 2",
   "language": "python",
   "name": "python2"
  },
  "language_info": {
   "codemirror_mode": {
    "name": "ipython",
    "version": 2
   },
   "file_extension": ".py",
   "mimetype": "text/x-python",
   "name": "python",
   "nbconvert_exporter": "python",
   "pygments_lexer": "ipython2",
   "version": "2.7.15"
  }
 },
 "nbformat": 4,
 "nbformat_minor": 2
}
